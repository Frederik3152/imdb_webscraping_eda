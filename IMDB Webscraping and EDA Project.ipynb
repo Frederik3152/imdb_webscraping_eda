{
 "cells": [
  {
   "cell_type": "markdown",
   "id": "a8f6192c",
   "metadata": {},
   "source": [
    "### License\n",
    "Copyright (c) 2022 Frederik Tørnstrøm (github.com/Frederik3152)\n",
    "\n",
    "This software is provided 'as-is', without any express or implied\n",
    "warranty. In no event will the authors be held liable for any damages\n",
    "arising from the use of this software.\n",
    "\n",
    "Permission is granted to anyone to use this software for any purpose,\n",
    "including commercial applications, and to alter it and redistribute it\n",
    "freely, subject to the following restrictions:\n",
    "\n",
    "1. The origin of this software must not be misrepresented; you must not\n",
    "   claim that you wrote the original software. If you use this software\n",
    "   in a product, an acknowledgment in the product documentation would be\n",
    "   appreciated but is not required.\n",
    "2. Altered source versions must be plainly marked as such, and must not be\n",
    "   misrepresented as being the original software.\n",
    "3. This notice may not be removed or altered from any source distribution."
   ]
  },
  {
   "cell_type": "markdown",
   "id": "13955541",
   "metadata": {},
   "source": [
    "# IMDB Webscraping and EDA Project\n",
    "### The goal of this project is to demonstrate different techniques in Python by gathering and analyzing movie data and thereby provide inputs to the studio executives upon how to maximize movie ratings of new releases."
   ]
  },
  {
   "cell_type": "code",
   "execution_count": 1,
   "id": "40a572e5",
   "metadata": {},
   "outputs": [],
   "source": [
    "#Importing libraries\n",
    "from bs4 import BeautifulSoup\n",
    "import requests\n",
    "import pandas as pd"
   ]
  },
  {
   "cell_type": "code",
   "execution_count": 78,
   "id": "44b07ec0",
   "metadata": {
    "scrolled": true
   },
   "outputs": [],
   "source": [
    "#Create the scraper function that searches for movie title, runtime, \n",
    "#release year, genre, director and rating using beautifulsoup\n",
    "def imdb_scrape(url):\n",
    "    #Getting the data from the url, using the requests library\n",
    "    source = requests.get(url).text\n",
    "    soup = BeautifulSoup(source, \"lxml\")\n",
    "    \n",
    "    #Creating the data variables from the required data\n",
    "    movie_data = soup.find_all(\"div\", class_=\"lister-item mode-advanced\")\n",
    "    \n",
    "    #Creating the list to store the names of movies and adding the movie titles to that list\n",
    "    movie_title = list()\n",
    "    for movie in movie_data:\n",
    "        name = movie.h3.a.text\n",
    "        movie_title.append(name)\n",
    "\n",
    "    #Creating the list to store the runtime of each movie and adding the data to that list\n",
    "    runtime = list()\n",
    "    for movie in movie_data:\n",
    "        time = movie.find(\"span\", class_=\"runtime\",).text\n",
    "        time1 = time.replace(\"min\",\"\")\n",
    "        runtime.append(time1)\n",
    "\n",
    "    #Creating the list to store the release year of movies and adding the data to that list    \n",
    "    release_year = list()\n",
    "    for movie in movie_data:\n",
    "        year = movie.h3.find(\"span\", class_=\"lister-item-year text-muted unbold\").text\n",
    "        year1 = year.replace(\"(\",\"\").replace(\")\",\"\")\n",
    "        release_year.append(year1)\n",
    "\n",
    "    #Creating the list to store the genre of movies and adding the data to that list\n",
    "    movie_genre = list()\n",
    "    for movie in movie_data:\n",
    "        genre = movie.find(\"span\", class_=\"genre\").text\n",
    "        genre1 = genre.replace(\"\\n\", \"\")\n",
    "        movie_genre.append(genre1)\n",
    "\n",
    "    #Creating the list to store the directors of each movie and adding the data to that list\n",
    "    director = list()\n",
    "    for movie in movie_data:\n",
    "        direc = movie.find(\"p\", class_=\"\",).a.text\n",
    "        director.append(direc)\n",
    "\n",
    "    #Creating the list to store the rating of movies and adding the data to that list\n",
    "    movie_rating = list()\n",
    "    for movie in movie_data:\n",
    "        rating = movie.find(\"div\", class_=\"inline-block ratings-imdb-rating\").text\n",
    "        rating1 = rating.replace(\"\\n\", \"\")\n",
    "        movie_rating.append(rating1)\n",
    "    \n",
    "    #Converting the individual lists to one dictionary\n",
    "    d = {\"Movie Title\":movie_title, \"Runtime\":runtime, \n",
    "             \"Release Year\":release_year, \"Genre\":movie_genre, \n",
    "             \"Director\":director, \"IMDB Rating\":movie_rating}\n",
    "   \n",
    "    #Converting the dictionary to dataframe\n",
    "    df_movie = pd.DataFrame(d)\n",
    "    return df_movie"
   ]
  },
  {
   "cell_type": "code",
   "execution_count": 79,
   "id": "a1ec6dc8",
   "metadata": {},
   "outputs": [],
   "source": [
    "#Creating the function that increminates the link, ensuring additional pages are included\n",
    "def url_gen(i):\n",
    "    l_link = \"https://www.imdb.com/search/title/?groups=top_1000&sort=user_rating,desc&count=100&start=\" \n",
    "    r_link = \"01&ref_=adv_nxt\"\n",
    "    url = l_link + str(i) + r_link\n",
    "    return url \n",
    "\n",
    "#Converting page 1 to a list\n",
    "d = [imdb_scrape(\"https://www.imdb.com/search/title/?count=100&groups=top_1000&sort=user_rating\")]\n",
    "\n",
    "#Adds data scraped from incremental pages to 'd' list\n",
    "for i in range(1,10):\n",
    "    d.append(imdb_scrape(url_gen(i)))\n",
    "\n",
    "#Creates the final dataframe, where all data is joined\n",
    "d_complete = pd.concat(d, ignore_index=True)"
   ]
  },
  {
   "cell_type": "code",
   "execution_count": 80,
   "id": "ac7a6dff",
   "metadata": {},
   "outputs": [],
   "source": [
    "#Exports the final dataframe to .csv as backup\n",
    "#d_complete.to_csv('IMDB_Top1000_Movies.csv', index=False)"
   ]
  },
  {
   "cell_type": "markdown",
   "id": "9b8fb957",
   "metadata": {},
   "source": [
    "#### Now that the data is gathered by webscraping IMDB's top 1000 movies website, it will be analyzed and visualized below:"
   ]
  },
  {
   "cell_type": "code",
   "execution_count": 2,
   "id": "c458df6c",
   "metadata": {},
   "outputs": [
    {
     "data": {
      "text/html": [
       "<div>\n",
       "<style scoped>\n",
       "    .dataframe tbody tr th:only-of-type {\n",
       "        vertical-align: middle;\n",
       "    }\n",
       "\n",
       "    .dataframe tbody tr th {\n",
       "        vertical-align: top;\n",
       "    }\n",
       "\n",
       "    .dataframe thead th {\n",
       "        text-align: right;\n",
       "    }\n",
       "</style>\n",
       "<table border=\"1\" class=\"dataframe\">\n",
       "  <thead>\n",
       "    <tr style=\"text-align: right;\">\n",
       "      <th></th>\n",
       "      <th>Movie Title</th>\n",
       "      <th>Runtime</th>\n",
       "      <th>Release Year</th>\n",
       "      <th>Genre</th>\n",
       "      <th>Director</th>\n",
       "      <th>IMDB Rating</th>\n",
       "    </tr>\n",
       "  </thead>\n",
       "  <tbody>\n",
       "    <tr>\n",
       "      <th>0</th>\n",
       "      <td>The Shawshank Redemption</td>\n",
       "      <td>142</td>\n",
       "      <td>1994</td>\n",
       "      <td>Drama</td>\n",
       "      <td>Frank Darabont</td>\n",
       "      <td>9.3</td>\n",
       "    </tr>\n",
       "    <tr>\n",
       "      <th>1</th>\n",
       "      <td>The Godfather</td>\n",
       "      <td>175</td>\n",
       "      <td>1972</td>\n",
       "      <td>Crime, Drama</td>\n",
       "      <td>Francis Ford Coppola</td>\n",
       "      <td>9.2</td>\n",
       "    </tr>\n",
       "    <tr>\n",
       "      <th>2</th>\n",
       "      <td>The Dark Knight</td>\n",
       "      <td>152</td>\n",
       "      <td>2008</td>\n",
       "      <td>Action, Crime, Drama</td>\n",
       "      <td>Christopher Nolan</td>\n",
       "      <td>9.0</td>\n",
       "    </tr>\n",
       "    <tr>\n",
       "      <th>3</th>\n",
       "      <td>The Lord of the Rings: The Return of the King</td>\n",
       "      <td>201</td>\n",
       "      <td>2003</td>\n",
       "      <td>Action, Adventure, Drama</td>\n",
       "      <td>Peter Jackson</td>\n",
       "      <td>9.0</td>\n",
       "    </tr>\n",
       "    <tr>\n",
       "      <th>4</th>\n",
       "      <td>Schindler's List</td>\n",
       "      <td>195</td>\n",
       "      <td>1993</td>\n",
       "      <td>Biography, Drama, History</td>\n",
       "      <td>Steven Spielberg</td>\n",
       "      <td>9.0</td>\n",
       "    </tr>\n",
       "  </tbody>\n",
       "</table>\n",
       "</div>"
      ],
      "text/plain": [
       "                                     Movie Title  Runtime Release Year  \\\n",
       "0                       The Shawshank Redemption      142         1994   \n",
       "1                                  The Godfather      175         1972   \n",
       "2                                The Dark Knight      152         2008   \n",
       "3  The Lord of the Rings: The Return of the King      201         2003   \n",
       "4                               Schindler's List      195         1993   \n",
       "\n",
       "                                   Genre              Director  IMDB Rating  \n",
       "0                      Drama                    Frank Darabont          9.3  \n",
       "1               Crime, Drama              Francis Ford Coppola          9.2  \n",
       "2       Action, Crime, Drama                 Christopher Nolan          9.0  \n",
       "3   Action, Adventure, Drama                     Peter Jackson          9.0  \n",
       "4  Biography, Drama, History                  Steven Spielberg          9.0  "
      ]
     },
     "execution_count": 2,
     "metadata": {},
     "output_type": "execute_result"
    }
   ],
   "source": [
    "#Importing the data analysis libraries\n",
    "import numpy as np\n",
    "import matplotlib.pyplot as plt\n",
    "import seaborn as sns\n",
    "from scipy.stats import chi2\n",
    "\n",
    "#Importing and reading the data per 29. september 2022\n",
    "df_movies = pd.read_csv(\"IMDB_Top1000_Movies.csv\")\n",
    "df_movies.head()"
   ]
  },
  {
   "cell_type": "code",
   "execution_count": 3,
   "id": "1c60a83f",
   "metadata": {},
   "outputs": [
    {
     "data": {
      "text/html": [
       "<div>\n",
       "<style scoped>\n",
       "    .dataframe tbody tr th:only-of-type {\n",
       "        vertical-align: middle;\n",
       "    }\n",
       "\n",
       "    .dataframe tbody tr th {\n",
       "        vertical-align: top;\n",
       "    }\n",
       "\n",
       "    .dataframe thead th {\n",
       "        text-align: right;\n",
       "    }\n",
       "</style>\n",
       "<table border=\"1\" class=\"dataframe\">\n",
       "  <thead>\n",
       "    <tr style=\"text-align: right;\">\n",
       "      <th></th>\n",
       "      <th>Movie Title</th>\n",
       "      <th>Runtime</th>\n",
       "      <th>Release Year</th>\n",
       "      <th>Genre</th>\n",
       "      <th>Director</th>\n",
       "      <th>IMDB Rating</th>\n",
       "    </tr>\n",
       "  </thead>\n",
       "  <tbody>\n",
       "    <tr>\n",
       "      <th>995</th>\n",
       "      <td>Sabrina</td>\n",
       "      <td>113</td>\n",
       "      <td>1954</td>\n",
       "      <td>Comedy, Drama, Romance</td>\n",
       "      <td>Billy Wilder</td>\n",
       "      <td>7.6</td>\n",
       "    </tr>\n",
       "    <tr>\n",
       "      <th>996</th>\n",
       "      <td>From Here to Eternity</td>\n",
       "      <td>118</td>\n",
       "      <td>1953</td>\n",
       "      <td>Drama, Romance, War</td>\n",
       "      <td>Fred Zinnemann</td>\n",
       "      <td>7.6</td>\n",
       "    </tr>\n",
       "    <tr>\n",
       "      <th>997</th>\n",
       "      <td>Snow White and the Seven Dwarfs</td>\n",
       "      <td>83</td>\n",
       "      <td>1937</td>\n",
       "      <td>Animation, Adventure, Family</td>\n",
       "      <td>William Cottrell</td>\n",
       "      <td>7.6</td>\n",
       "    </tr>\n",
       "    <tr>\n",
       "      <th>998</th>\n",
       "      <td>The 39 Steps</td>\n",
       "      <td>86</td>\n",
       "      <td>1935</td>\n",
       "      <td>Crime, Mystery, Thriller</td>\n",
       "      <td>Alfred Hitchcock</td>\n",
       "      <td>7.6</td>\n",
       "    </tr>\n",
       "    <tr>\n",
       "      <th>999</th>\n",
       "      <td>The Invisible Man</td>\n",
       "      <td>71</td>\n",
       "      <td>1933</td>\n",
       "      <td>Horror, Sci-Fi</td>\n",
       "      <td>James Whale</td>\n",
       "      <td>7.6</td>\n",
       "    </tr>\n",
       "  </tbody>\n",
       "</table>\n",
       "</div>"
      ],
      "text/plain": [
       "                         Movie Title  Runtime Release Year  \\\n",
       "995                          Sabrina      113         1954   \n",
       "996            From Here to Eternity      118         1953   \n",
       "997  Snow White and the Seven Dwarfs       83         1937   \n",
       "998                     The 39 Steps       86         1935   \n",
       "999                The Invisible Man       71         1933   \n",
       "\n",
       "                                        Genre          Director  IMDB Rating  \n",
       "995        Comedy, Drama, Romance                  Billy Wilder          7.6  \n",
       "996           Drama, Romance, War                Fred Zinnemann          7.6  \n",
       "997  Animation, Adventure, Family              William Cottrell          7.6  \n",
       "998      Crime, Mystery, Thriller              Alfred Hitchcock          7.6  \n",
       "999                Horror, Sci-Fi                   James Whale          7.6  "
      ]
     },
     "execution_count": 3,
     "metadata": {},
     "output_type": "execute_result"
    }
   ],
   "source": [
    "#Bottom 5 records\n",
    "df_movies.tail()"
   ]
  },
  {
   "cell_type": "code",
   "execution_count": 4,
   "id": "ad05e13c",
   "metadata": {},
   "outputs": [
    {
     "name": "stdout",
     "output_type": "stream",
     "text": [
      "<class 'pandas.core.frame.DataFrame'>\n",
      "RangeIndex: 1000 entries, 0 to 999\n",
      "Data columns (total 6 columns):\n",
      " #   Column        Non-Null Count  Dtype  \n",
      "---  ------        --------------  -----  \n",
      " 0   Movie Title   1000 non-null   object \n",
      " 1   Runtime       1000 non-null   int64  \n",
      " 2   Release Year  1000 non-null   object \n",
      " 3   Genre         1000 non-null   object \n",
      " 4   Director      1000 non-null   object \n",
      " 5   IMDB Rating   1000 non-null   float64\n",
      "dtypes: float64(1), int64(1), object(4)\n",
      "memory usage: 47.0+ KB\n"
     ]
    }
   ],
   "source": [
    "#Exploring the dataframe to check for missing values\n",
    "df_movies.info()"
   ]
  },
  {
   "cell_type": "code",
   "execution_count": 5,
   "id": "676a3fd3",
   "metadata": {},
   "outputs": [],
   "source": [
    "#Converting the \"Release Year\" column to integer by removing unnecessary characters\n",
    "df_movies[\"Release Year\"] = df_movies[\"Release Year\"].str.replace(\"I\",\"\")\n",
    "df_movies[\"Release Year\"] = df_movies[\"Release Year\"].str.replace(\"II\",\"\")\n",
    "df_movies[\"Release Year\"] = df_movies[\"Release Year\"].str.replace(\"III\",\"\")\n",
    "df_movies[\"Release Year\"] = df_movies[\"Release Year\"].astype(\"int\")"
   ]
  },
  {
   "cell_type": "code",
   "execution_count": 6,
   "id": "f3e5adb5",
   "metadata": {},
   "outputs": [
    {
     "data": {
      "image/png": "[encoded data removed]",
      "text/plain": [
       "<Figure size 576x432 with 4 Axes>"
      ]
     },
     "metadata": {
      "needs_background": "light"
     },
     "output_type": "display_data"
    },
    {
     "data": {
      "text/html": [
       "<div>\n",
       "<style scoped>\n",
       "    .dataframe tbody tr th:only-of-type {\n",
       "        vertical-align: middle;\n",
       "    }\n",
       "\n",
       "    .dataframe tbody tr th {\n",
       "        vertical-align: top;\n",
       "    }\n",
       "\n",
       "    .dataframe thead th {\n",
       "        text-align: right;\n",
       "    }\n",
       "</style>\n",
       "<table border=\"1\" class=\"dataframe\">\n",
       "  <thead>\n",
       "    <tr style=\"text-align: right;\">\n",
       "      <th></th>\n",
       "      <th>Runtime</th>\n",
       "      <th>Release Year</th>\n",
       "      <th>IMDB Rating</th>\n",
       "    </tr>\n",
       "  </thead>\n",
       "  <tbody>\n",
       "    <tr>\n",
       "      <th>count</th>\n",
       "      <td>1000.00000</td>\n",
       "      <td>1000.000000</td>\n",
       "      <td>1000.000000</td>\n",
       "    </tr>\n",
       "    <tr>\n",
       "      <th>mean</th>\n",
       "      <td>123.80600</td>\n",
       "      <td>1991.305000</td>\n",
       "      <td>7.964600</td>\n",
       "    </tr>\n",
       "    <tr>\n",
       "      <th>std</th>\n",
       "      <td>28.66793</td>\n",
       "      <td>23.980722</td>\n",
       "      <td>0.277243</td>\n",
       "    </tr>\n",
       "    <tr>\n",
       "      <th>min</th>\n",
       "      <td>45.00000</td>\n",
       "      <td>1920.000000</td>\n",
       "      <td>7.600000</td>\n",
       "    </tr>\n",
       "    <tr>\n",
       "      <th>25%</th>\n",
       "      <td>103.00000</td>\n",
       "      <td>1975.000000</td>\n",
       "      <td>7.700000</td>\n",
       "    </tr>\n",
       "    <tr>\n",
       "      <th>50%</th>\n",
       "      <td>120.00000</td>\n",
       "      <td>1999.000000</td>\n",
       "      <td>7.900000</td>\n",
       "    </tr>\n",
       "    <tr>\n",
       "      <th>75%</th>\n",
       "      <td>138.00000</td>\n",
       "      <td>2010.000000</td>\n",
       "      <td>8.100000</td>\n",
       "    </tr>\n",
       "    <tr>\n",
       "      <th>max</th>\n",
       "      <td>321.00000</td>\n",
       "      <td>2022.000000</td>\n",
       "      <td>9.300000</td>\n",
       "    </tr>\n",
       "  </tbody>\n",
       "</table>\n",
       "</div>"
      ],
      "text/plain": [
       "          Runtime  Release Year  IMDB Rating\n",
       "count  1000.00000   1000.000000  1000.000000\n",
       "mean    123.80600   1991.305000     7.964600\n",
       "std      28.66793     23.980722     0.277243\n",
       "min      45.00000   1920.000000     7.600000\n",
       "25%     103.00000   1975.000000     7.700000\n",
       "50%     120.00000   1999.000000     7.900000\n",
       "75%     138.00000   2010.000000     8.100000\n",
       "max     321.00000   2022.000000     9.300000"
      ]
     },
     "execution_count": 6,
     "metadata": {},
     "output_type": "execute_result"
    }
   ],
   "source": [
    "#Distribution of numerical values\n",
    "df_movies.hist(figsize=(8,6), xrot=25)\n",
    "plt.show()\n",
    "df_movies.describe()"
   ]
  },
  {
   "cell_type": "markdown",
   "id": "91505464",
   "metadata": {},
   "source": [
    "### First part of the analysis will be concerned with finding the best director for a new movie, guaranteeing a place in the top 1000 movies and ensuring the highest possible IMDB rating.  "
   ]
  },
  {
   "cell_type": "code",
   "execution_count": 7,
   "id": "66adc1a4",
   "metadata": {},
   "outputs": [
    {
     "data": {
      "image/png": "[encoded data removed]",
      "text/plain": [
       "<Figure size 432x288 with 1 Axes>"
      ]
     },
     "metadata": {
      "needs_background": "light"
     },
     "output_type": "display_data"
    }
   ],
   "source": [
    "#Plotting the frequency of directors using a chi2 distribution\n",
    "num_dir = pd.DataFrame(df_movies[\"Director\"].value_counts())\n",
    "plt.plot(num_dir, chi2.pdf(num_dir, df=1))\n",
    "\n",
    "#Adding axis labels and a title\n",
    "plt.ylabel(\"Percentage of Directors\")\n",
    "plt.xlabel(\"Number of movies in Top 1000\")\n",
    "plt.title(\"Frequency of directors in list\", fontsize=15)\n",
    "\n",
    "#Adding the line showing the focus area of top 5% of directors\n",
    "plt.locator_params (\"x\", nbins = 14)\n",
    "plt.axhline(y = 0.05, xmin = 0, xmax = 0.195, color =\"r\", linestyle = \"-\")\n",
    "plt.axvline(x = 3, ymin = 0, ymax = 0.23, color = \"r\", linestyle = \"-\")\n",
    "plt.show()"
   ]
  },
  {
   "cell_type": "code",
   "execution_count": 8,
   "id": "a446081a",
   "metadata": {},
   "outputs": [
    {
     "data": {
      "text/html": [
       "<style>\n",
       "div.cell:nth-child(16) .output {\n",
       "    flex-direction: row;\n",
       "}\n",
       "</style>"
      ],
      "text/plain": [
       "<IPython.core.display.HTML object>"
      ]
     },
     "execution_count": 8,
     "metadata": {},
     "output_type": "execute_result"
    }
   ],
   "source": [
    "#Showing the directors with the highest average IMDB Rating\n",
    "df_movies_dir = pd.concat([df_movies.groupby(\"Director\", as_index=True)[\"IMDB Rating\"].mean(), \n",
    "                           pd.DataFrame(df_movies[\"Director\"].value_counts())], axis=1)\n",
    "\n",
    "#Modifying the css format of the next cell to help with visualization\n",
    "from IPython.display import display, HTML\n",
    "CSS = \"\"\"\n",
    "div.cell:nth-child(16) .output {\n",
    "    flex-direction: row;\n",
    "}\n",
    "\"\"\"\n",
    "HTML('<style>{}</style>'.format(CSS))"
   ]
  },
  {
   "cell_type": "code",
   "execution_count": 9,
   "id": "6e5b2791",
   "metadata": {},
   "outputs": [
    {
     "data": {
      "text/html": [
       "<div>\n",
       "<style scoped>\n",
       "    .dataframe tbody tr th:only-of-type {\n",
       "        vertical-align: middle;\n",
       "    }\n",
       "\n",
       "    .dataframe tbody tr th {\n",
       "        vertical-align: top;\n",
       "    }\n",
       "\n",
       "    .dataframe thead th {\n",
       "        text-align: right;\n",
       "    }\n",
       "</style>\n",
       "<table border=\"1\" class=\"dataframe\">\n",
       "  <thead>\n",
       "    <tr style=\"text-align: right;\">\n",
       "      <th></th>\n",
       "      <th>IMDB Rating</th>\n",
       "      <th>Director</th>\n",
       "    </tr>\n",
       "  </thead>\n",
       "  <tbody>\n",
       "    <tr>\n",
       "      <th>Christopher Nolan</th>\n",
       "      <td>8.462500</td>\n",
       "      <td>8</td>\n",
       "    </tr>\n",
       "    <tr>\n",
       "      <th>Peter Jackson</th>\n",
       "      <td>8.440000</td>\n",
       "      <td>5</td>\n",
       "    </tr>\n",
       "    <tr>\n",
       "      <th>Francis Ford Coppola</th>\n",
       "      <td>8.420000</td>\n",
       "      <td>5</td>\n",
       "    </tr>\n",
       "    <tr>\n",
       "      <th>Sergio Leone</th>\n",
       "      <td>8.340000</td>\n",
       "      <td>5</td>\n",
       "    </tr>\n",
       "    <tr>\n",
       "      <th>Charles Chaplin</th>\n",
       "      <td>8.333333</td>\n",
       "      <td>6</td>\n",
       "    </tr>\n",
       "    <tr>\n",
       "      <th>...</th>\n",
       "      <td>...</td>\n",
       "      <td>...</td>\n",
       "    </tr>\n",
       "    <tr>\n",
       "      <th>James Whale</th>\n",
       "      <td>7.733333</td>\n",
       "      <td>3</td>\n",
       "    </tr>\n",
       "    <tr>\n",
       "      <th>Ron Clements</th>\n",
       "      <td>7.733333</td>\n",
       "      <td>3</td>\n",
       "    </tr>\n",
       "    <tr>\n",
       "      <th>Terrence Malick</th>\n",
       "      <td>7.700000</td>\n",
       "      <td>3</td>\n",
       "    </tr>\n",
       "    <tr>\n",
       "      <th>Spike Lee</th>\n",
       "      <td>7.700000</td>\n",
       "      <td>4</td>\n",
       "    </tr>\n",
       "    <tr>\n",
       "      <th>Matthew Vaughn</th>\n",
       "      <td>7.650000</td>\n",
       "      <td>4</td>\n",
       "    </tr>\n",
       "  </tbody>\n",
       "</table>\n",
       "<p>90 rows × 2 columns</p>\n",
       "</div>"
      ],
      "text/plain": [
       "                      IMDB Rating  Director\n",
       "Christopher Nolan        8.462500         8\n",
       "Peter Jackson            8.440000         5\n",
       "Francis Ford Coppola     8.420000         5\n",
       "Sergio Leone             8.340000         5\n",
       "Charles Chaplin          8.333333         6\n",
       "...                           ...       ...\n",
       "James Whale              7.733333         3\n",
       "Ron Clements             7.733333         3\n",
       "Terrence Malick          7.700000         3\n",
       "Spike Lee                7.700000         4\n",
       "Matthew Vaughn           7.650000         4\n",
       "\n",
       "[90 rows x 2 columns]"
      ]
     },
     "metadata": {},
     "output_type": "display_data"
    },
    {
     "data": {
      "text/html": [
       "<div>\n",
       "<style scoped>\n",
       "    .dataframe tbody tr th:only-of-type {\n",
       "        vertical-align: middle;\n",
       "    }\n",
       "\n",
       "    .dataframe tbody tr th {\n",
       "        vertical-align: top;\n",
       "    }\n",
       "\n",
       "    .dataframe thead th {\n",
       "        text-align: right;\n",
       "    }\n",
       "</style>\n",
       "<table border=\"1\" class=\"dataframe\">\n",
       "  <thead>\n",
       "    <tr style=\"text-align: right;\">\n",
       "      <th></th>\n",
       "      <th>IMDB Rating</th>\n",
       "      <th>Director</th>\n",
       "    </tr>\n",
       "  </thead>\n",
       "  <tbody>\n",
       "    <tr>\n",
       "      <th>Alfred Hitchcock</th>\n",
       "      <td>8.030769</td>\n",
       "      <td>13</td>\n",
       "    </tr>\n",
       "    <tr>\n",
       "      <th>Steven Spielberg</th>\n",
       "      <td>8.061538</td>\n",
       "      <td>13</td>\n",
       "    </tr>\n",
       "    <tr>\n",
       "      <th>Akira Kurosawa</th>\n",
       "      <td>8.158333</td>\n",
       "      <td>12</td>\n",
       "    </tr>\n",
       "    <tr>\n",
       "      <th>Hayao Miyazaki</th>\n",
       "      <td>8.010000</td>\n",
       "      <td>10</td>\n",
       "    </tr>\n",
       "    <tr>\n",
       "      <th>Martin Scorsese</th>\n",
       "      <td>8.140000</td>\n",
       "      <td>10</td>\n",
       "    </tr>\n",
       "    <tr>\n",
       "      <th>...</th>\n",
       "      <td>...</td>\n",
       "      <td>...</td>\n",
       "    </tr>\n",
       "    <tr>\n",
       "      <th>Michael Mann</th>\n",
       "      <td>7.933333</td>\n",
       "      <td>3</td>\n",
       "    </tr>\n",
       "    <tr>\n",
       "      <th>Brian De Palma</th>\n",
       "      <td>8.033333</td>\n",
       "      <td>3</td>\n",
       "    </tr>\n",
       "    <tr>\n",
       "      <th>Mel Gibson</th>\n",
       "      <td>8.100000</td>\n",
       "      <td>3</td>\n",
       "    </tr>\n",
       "    <tr>\n",
       "      <th>Michael Curtiz</th>\n",
       "      <td>8.100000</td>\n",
       "      <td>3</td>\n",
       "    </tr>\n",
       "    <tr>\n",
       "      <th>Alejandro Amenábar</th>\n",
       "      <td>7.766667</td>\n",
       "      <td>3</td>\n",
       "    </tr>\n",
       "  </tbody>\n",
       "</table>\n",
       "<p>90 rows × 2 columns</p>\n",
       "</div>"
      ],
      "text/plain": [
       "                    IMDB Rating  Director\n",
       "Alfred Hitchcock       8.030769        13\n",
       "Steven Spielberg       8.061538        13\n",
       "Akira Kurosawa         8.158333        12\n",
       "Hayao Miyazaki         8.010000        10\n",
       "Martin Scorsese        8.140000        10\n",
       "...                         ...       ...\n",
       "Michael Mann           7.933333         3\n",
       "Brian De Palma         8.033333         3\n",
       "Mel Gibson             8.100000         3\n",
       "Michael Curtiz         8.100000         3\n",
       "Alejandro Amenábar     7.766667         3\n",
       "\n",
       "[90 rows x 2 columns]"
      ]
     },
     "metadata": {},
     "output_type": "display_data"
    }
   ],
   "source": [
    "#As per above chart, only those with 3 or more movies in the list are considered\n",
    "display(df_movies_dir.sort_values(by=\"IMDB Rating\", \n",
    "                                  ascending=False).query(\"Director >= 3\"))\n",
    "display(df_movies_dir.sort_values(by=\"Director\", \n",
    "                                  ascending=False).query(\"Director >= 3\"))"
   ]
  },
  {
   "cell_type": "markdown",
   "id": "8c111f6c",
   "metadata": {},
   "source": [
    "#### As is apparent from above tables, the director with the highest average IMDB rating and more than 3 movies on the list is \"Christopher Nolan\" with an 8.46 average rating over 8 movies. \n",
    "\n",
    "#### An argument could also be made that even getting a movie into top 1000 is more important than the average rating, and the studio should therefore seek out the directors with the most movies on the list, \"Alfred Hitchcock\" and \"Steven Spielberg\". \n",
    "\n",
    "#### Consequently, it is up to studio executives to decide which goal is more important and seek out the director that best fits their goal."
   ]
  },
  {
   "cell_type": "markdown",
   "id": "43056710",
   "metadata": {},
   "source": [
    "### The next analysis is concerned with finding the genre and subgenres most likely to earn the movie a place in IMDB's top 1000. "
   ]
  },
  {
   "cell_type": "code",
   "execution_count": 10,
   "id": "28d77481",
   "metadata": {},
   "outputs": [
    {
     "data": {
      "text/plain": [
       "Text(0, 0.5, 'Frequency')"
      ]
     },
     "execution_count": 10,
     "metadata": {},
     "output_type": "execute_result"
    },
    {
     "data": {
      "image/png": "[encoded data removed]",
      "text/plain": [
       "<Figure size 576x360 with 1 Axes>"
      ]
     },
     "metadata": {
      "needs_background": "light"
     },
     "output_type": "display_data"
    }
   ],
   "source": [
    "#Splitting the Genre column into Main Genre and subgenres\n",
    "df_movies_genre = pd.DataFrame(df_movies[\"Genre\"])\n",
    "df_movies_genre[[\"Main Genre\", \"Subgenre1\", \"Subgenre2\"]] = df_movies[\"Genre\"].str.split(\",\", expand=True)\n",
    "df_movies_genre[\"Main Genre\"] = df_movies_genre[\"Main Genre\"].str.replace(\" \",\"\")\n",
    "df_movies_genre[\"Subgenre1\"] = df_movies_genre[\"Subgenre1\"].str.replace(\" \",\"\")\n",
    "df_movies_genre[\"Subgenre2\"] = df_movies_genre[\"Subgenre2\"].str.replace(\" \",\"\")\n",
    "df_genre_split = df_movies_genre.drop(df_movies_genre.columns[0], axis=1)\n",
    "\n",
    "#Plotting the Main Genre distribution, showcasing most frequent genre\n",
    "ax = df_genre_split[\"Main Genre\"].value_counts().plot(kind=\"bar\",\n",
    "                                    figsize=(8,5),\n",
    "                                    title=\"Frequency of main Genre\")\n",
    "ax.set_xlabel(\"Genres\")\n",
    "ax.set_ylabel(\"Frequency\")"
   ]
  },
  {
   "cell_type": "markdown",
   "id": "fa9d0601",
   "metadata": {},
   "source": [
    "#### Based on above chart, it is reasonable to assume that to maximize one's chances of creating a movie for the top 1000 list, it needs to have \"Drama\" as it's Main Genre."
   ]
  },
  {
   "cell_type": "code",
   "execution_count": 11,
   "id": "693da029",
   "metadata": {},
   "outputs": [
    {
     "data": {
      "text/plain": [
       "Text(0, 0.5, 'Frequency')"
      ]
     },
     "execution_count": 11,
     "metadata": {},
     "output_type": "execute_result"
    },
    {
     "data": {
      "image/png": "[encoded data removed]",
      "text/plain": [
       "<Figure size 576x360 with 1 Axes>"
      ]
     },
     "metadata": {
      "needs_background": "light"
     },
     "output_type": "display_data"
    }
   ],
   "source": [
    "#Checking and plotting the subgenre1 most often associated with \"Drama\" as Main Genre\n",
    "df_genre_sub1 = df_genre_split[df_genre_split[\"Main Genre\"].str.contains(\"Drama\")]\n",
    "\n",
    "ay = df_genre_sub1[\"Subgenre1\"].value_counts().plot(kind=\"bar\",\n",
    "                                    figsize=(8,5),\n",
    "                                    title=\"Frequency of Subgenre\")\n",
    "ay.set_xlabel(\"Genres\")\n",
    "ay.set_ylabel(\"Frequency\")"
   ]
  },
  {
   "cell_type": "markdown",
   "id": "7d65ccec",
   "metadata": {},
   "source": [
    "#### The first subgenre most often associated with \"Drama\" is Romance."
   ]
  },
  {
   "cell_type": "code",
   "execution_count": 12,
   "id": "98248724",
   "metadata": {},
   "outputs": [
    {
     "data": {
      "text/plain": [
       "Text(0, 0.5, 'Frequency')"
      ]
     },
     "execution_count": 12,
     "metadata": {},
     "output_type": "execute_result"
    },
    {
     "data": {
      "image/png": "[encoded data removed]",
      "text/plain": [
       "<Figure size 576x360 with 1 Axes>"
      ]
     },
     "metadata": {
      "needs_background": "light"
     },
     "output_type": "display_data"
    }
   ],
   "source": [
    "#Checking and plotting the subgenre2 most often associated with \"Drama\" as Main Genre and \"Romance\" as subgenre1\n",
    "df_genre_sub2 = df_genre_sub1[df_genre_sub1[\"Subgenre1\"].str.contains(\"Romance\", na=False)]\n",
    "\n",
    "ay = df_genre_sub2[\"Subgenre2\"].value_counts().plot(kind=\"bar\",\n",
    "                                    figsize=(8,5),\n",
    "                                    title=\"Frequency of Subgenre\")\n",
    "ay.set_xlabel(\"Genres\")\n",
    "ay.set_ylabel(\"Frequency\")"
   ]
  },
  {
   "cell_type": "markdown",
   "id": "983ac940",
   "metadata": {},
   "source": [
    "#### The second subgenre most often associated with Drama / Romance movies is \"War\" movies, however, due to the low frequency of this specific genre combination, it is assumed that the second subgenre is much less important for a movie's success.\n",
    "\n",
    "#### Therefore, it can be concluded that the genre combination most likely to lead to a place in the top 1000 list is a Drama / Romance movie. \n",
    "#### Notable Drama / Romance movies include: Forest Gump, Life is Beautiful and Good Will Hunting."
   ]
  },
  {
   "cell_type": "markdown",
   "id": "e91bc86a",
   "metadata": {},
   "source": [
    "### The last analysis will be concerned with determining the optimal runtime to aim for, relative to modern trends and movie rating."
   ]
  },
  {
   "cell_type": "code",
   "execution_count": 13,
   "id": "f3e5da2e",
   "metadata": {},
   "outputs": [
    {
     "data": {
      "text/html": [
       "<div>\n",
       "<style scoped>\n",
       "    .dataframe tbody tr th:only-of-type {\n",
       "        vertical-align: middle;\n",
       "    }\n",
       "\n",
       "    .dataframe tbody tr th {\n",
       "        vertical-align: top;\n",
       "    }\n",
       "\n",
       "    .dataframe thead th {\n",
       "        text-align: right;\n",
       "    }\n",
       "</style>\n",
       "<table border=\"1\" class=\"dataframe\">\n",
       "  <thead>\n",
       "    <tr style=\"text-align: right;\">\n",
       "      <th></th>\n",
       "      <th>Movie Title</th>\n",
       "      <th>Runtime</th>\n",
       "      <th>Release Year</th>\n",
       "      <th>Genre</th>\n",
       "      <th>Director</th>\n",
       "      <th>IMDB Rating</th>\n",
       "      <th>Release_Bins</th>\n",
       "    </tr>\n",
       "  </thead>\n",
       "  <tbody>\n",
       "    <tr>\n",
       "      <th>0</th>\n",
       "      <td>The Shawshank Redemption</td>\n",
       "      <td>142</td>\n",
       "      <td>1994</td>\n",
       "      <td>Drama</td>\n",
       "      <td>Frank Darabont</td>\n",
       "      <td>9.3</td>\n",
       "      <td>(1990, 2000]</td>\n",
       "    </tr>\n",
       "    <tr>\n",
       "      <th>1</th>\n",
       "      <td>The Godfather</td>\n",
       "      <td>175</td>\n",
       "      <td>1972</td>\n",
       "      <td>Crime, Drama</td>\n",
       "      <td>Francis Ford Coppola</td>\n",
       "      <td>9.2</td>\n",
       "      <td>(1970, 1980]</td>\n",
       "    </tr>\n",
       "    <tr>\n",
       "      <th>2</th>\n",
       "      <td>The Dark Knight</td>\n",
       "      <td>152</td>\n",
       "      <td>2008</td>\n",
       "      <td>Action, Crime, Drama</td>\n",
       "      <td>Christopher Nolan</td>\n",
       "      <td>9.0</td>\n",
       "      <td>(2000, 2010]</td>\n",
       "    </tr>\n",
       "    <tr>\n",
       "      <th>3</th>\n",
       "      <td>The Lord of the Rings: The Return of the King</td>\n",
       "      <td>201</td>\n",
       "      <td>2003</td>\n",
       "      <td>Action, Adventure, Drama</td>\n",
       "      <td>Peter Jackson</td>\n",
       "      <td>9.0</td>\n",
       "      <td>(2000, 2010]</td>\n",
       "    </tr>\n",
       "    <tr>\n",
       "      <th>4</th>\n",
       "      <td>Schindler's List</td>\n",
       "      <td>195</td>\n",
       "      <td>1993</td>\n",
       "      <td>Biography, Drama, History</td>\n",
       "      <td>Steven Spielberg</td>\n",
       "      <td>9.0</td>\n",
       "      <td>(1990, 2000]</td>\n",
       "    </tr>\n",
       "  </tbody>\n",
       "</table>\n",
       "</div>"
      ],
      "text/plain": [
       "                                     Movie Title  Runtime  Release Year  \\\n",
       "0                       The Shawshank Redemption      142          1994   \n",
       "1                                  The Godfather      175          1972   \n",
       "2                                The Dark Knight      152          2008   \n",
       "3  The Lord of the Rings: The Return of the King      201          2003   \n",
       "4                               Schindler's List      195          1993   \n",
       "\n",
       "                                   Genre              Director  IMDB Rating  \\\n",
       "0                      Drama                    Frank Darabont          9.3   \n",
       "1               Crime, Drama              Francis Ford Coppola          9.2   \n",
       "2       Action, Crime, Drama                 Christopher Nolan          9.0   \n",
       "3   Action, Adventure, Drama                     Peter Jackson          9.0   \n",
       "4  Biography, Drama, History                  Steven Spielberg          9.0   \n",
       "\n",
       "   Release_Bins  \n",
       "0  (1990, 2000]  \n",
       "1  (1970, 1980]  \n",
       "2  (2000, 2010]  \n",
       "3  (2000, 2010]  \n",
       "4  (1990, 2000]  "
      ]
     },
     "execution_count": 13,
     "metadata": {},
     "output_type": "execute_result"
    }
   ],
   "source": [
    "#Creating bins to segment release_year into a more manageable amount\n",
    "bins = [1920, 1930, 1940, 1950, 1960, 1970, 1980, 1990, 2000, 2010, 2020, 2030]\n",
    "df_movies[\"Release_Bins\"] = pd.cut(df_movies[\"Release Year\"], bins)\n",
    "df_movies.head()"
   ]
  },
  {
   "cell_type": "code",
   "execution_count": 14,
   "id": "84e56853",
   "metadata": {},
   "outputs": [
    {
     "data": {
      "text/plain": [
       "Release_Bins\n",
       "(1920, 1930]     93.181818\n",
       "(1930, 1940]    103.750000\n",
       "(1940, 1950]    107.675676\n",
       "(1950, 1960]    118.937500\n",
       "(1960, 1970]    127.484848\n",
       "(1970, 1980]    124.810811\n",
       "(1980, 1990]    121.791209\n",
       "(1990, 2000]    123.953947\n",
       "(2000, 2010]    124.264317\n",
       "(2010, 2020]    128.628319\n",
       "(2020, 2030]    155.526316\n",
       "Name: Runtime, dtype: float64"
      ]
     },
     "execution_count": 14,
     "metadata": {},
     "output_type": "execute_result"
    }
   ],
   "source": [
    "#Checking the average runtime of each bin\n",
    "runtime_avg = df_movies.groupby(\"Release_Bins\")[\"Runtime\"].mean()\n",
    "runtime_avg"
   ]
  },
  {
   "cell_type": "code",
   "execution_count": 15,
   "id": "549a35d2",
   "metadata": {},
   "outputs": [
    {
     "data": {
      "image/png": "[encoded data removed]",
      "text/plain": [
       "<Figure size 432x288 with 1 Axes>"
      ]
     },
     "metadata": {
      "needs_background": "light"
     },
     "output_type": "display_data"
    }
   ],
   "source": [
    "#Exporting the runtime average vector to a list\n",
    "runtime_avg_list = runtime_avg.tolist()\n",
    "\n",
    "#Creates the plot, showing the development in the runtime over time\n",
    "plt.plot(bins[:-1], runtime_avg_list)\n",
    "\n",
    "plt.ylabel(\"Runtime\")\n",
    "plt.xlabel(\"Release Year\")\n",
    "plt.title(\"Development of average runtime over time\", fontsize=15)\n",
    "\n",
    "plt.show()"
   ]
  },
  {
   "cell_type": "markdown",
   "id": "2ef4d374",
   "metadata": {},
   "source": [
    "#### As the chart and the data vector implies, the average movie on the top 1000 list has increased significantly over time. In fact, in the 100 years between 1920s and 2020s, the average movie is more than 1 hour longer, an increase of 67%. "
   ]
  },
  {
   "cell_type": "markdown",
   "id": "7c3b30a0",
   "metadata": {},
   "source": [
    "## Conclusion:\n",
    "### This project has helped demonstrate the ability to do several techniques in Python including webscraping, exploratory data analysis and data visualization. \n",
    "### The main takeaways from the project is that to maximize the chances of a new movie earning a place in IMDB's top 1000 movies of all time list, and receiving higher public ratings, the studio needs to look for a successful director, genre combination and runtime. \n",
    "### This director can be \"Christopher Nolan\" or \"Peter Jackson\" to maximize ratings or \"Alfred Hitchcock\" or \"Steven Spielberg\" to maximize chances of reaching the list. The genre combination most likely to reach the top 1000 list is a Drama / Romance movie, and the runtime should follow historical trends and exceed 2:30 hours. "
   ]
  }
 ],
 "metadata": {
  "kernelspec": {
   "display_name": "Python 3 (ipykernel)",
   "language": "python",
   "name": "python3"
  },
  "language_info": {
   "codemirror_mode": {
    "name": "ipython",
    "version": 3
   },
   "file_extension": ".py",
   "mimetype": "text/x-python",
   "name": "python",
   "nbconvert_exporter": "python",
   "pygments_lexer": "ipython3",
   "version": "3.9.7"
  }
 },
 "nbformat": 4,
 "nbformat_minor": 5
}
